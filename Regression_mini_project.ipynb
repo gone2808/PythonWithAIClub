{
    "cells": [
        {
            "cell_type": "code",
            "execution_count": 65,
            "source": [
                "# import Library\r\n",
                "\r\n",
                "import numpy as np\r\n",
                "import matplotlib.pyplot as plt\r\n",
                "import pandas as pd\r\n",
                "import seaborn as sns\r\n",
                "from sklearn.model_selection import train_test_split\r\n",
                "from sklearn.decomposition import PCA\r\n",
                "from sklearn.metrics import mean_squared_error\r\n",
                "from sklearn import linear_model\r\n",
                "from sklearn import datasets\r\n"
            ],
            "outputs": [],
            "metadata": {}
        },
        {
            "cell_type": "code",
            "execution_count": 66,
            "source": [
                "df = pd.read_csv('./USA_Housing.csv')\r\n",
                "\r\n",
                "# print(df.head())\r\n",
                "print(df.shape)\r\n",
                "# df.dropna(0)\r\n",
                "df.describe()\r\n",
                "# df.isnull().sum()\r\n",
                "# sns.heatmap(df.corr(), annot = True, cmap = 'cool')\r\n",
                "# plt.show()"
            ],
            "outputs": [
                {
                    "output_type": "stream",
                    "name": "stdout",
                    "text": [
                        "(5000, 7)\n"
                    ]
                },
                {
                    "output_type": "execute_result",
                    "data": {
                        "text/plain": [
                            "       Avg. Area Income  Avg. Area House Age  Avg. Area Number of Rooms  \\\n",
                            "count       5000.000000          5000.000000                5000.000000   \n",
                            "mean       68583.108984             5.977222                   6.987792   \n",
                            "std        10657.991214             0.991456                   1.005833   \n",
                            "min        17796.631190             2.644304                   3.236194   \n",
                            "25%        61480.562388             5.322283                   6.299250   \n",
                            "50%        68804.286404             5.970429                   7.002902   \n",
                            "75%        75783.338666             6.650808                   7.665871   \n",
                            "max       107701.748378             9.519088                  10.759588   \n",
                            "\n",
                            "       Avg. Area Number of Bedrooms  Area Population         Price  \n",
                            "count                   5000.000000      5000.000000  5.000000e+03  \n",
                            "mean                       3.981330     36163.516039  1.232073e+06  \n",
                            "std                        1.234137      9925.650114  3.531176e+05  \n",
                            "min                        2.000000       172.610686  1.593866e+04  \n",
                            "25%                        3.140000     29403.928702  9.975771e+05  \n",
                            "50%                        4.050000     36199.406689  1.232669e+06  \n",
                            "75%                        4.490000     42861.290769  1.471210e+06  \n",
                            "max                        6.500000     69621.713378  2.469066e+06  "
                        ],
                        "text/html": [
                            "<div>\n",
                            "<style scoped>\n",
                            "    .dataframe tbody tr th:only-of-type {\n",
                            "        vertical-align: middle;\n",
                            "    }\n",
                            "\n",
                            "    .dataframe tbody tr th {\n",
                            "        vertical-align: top;\n",
                            "    }\n",
                            "\n",
                            "    .dataframe thead th {\n",
                            "        text-align: right;\n",
                            "    }\n",
                            "</style>\n",
                            "<table border=\"1\" class=\"dataframe\">\n",
                            "  <thead>\n",
                            "    <tr style=\"text-align: right;\">\n",
                            "      <th></th>\n",
                            "      <th>Avg. Area Income</th>\n",
                            "      <th>Avg. Area House Age</th>\n",
                            "      <th>Avg. Area Number of Rooms</th>\n",
                            "      <th>Avg. Area Number of Bedrooms</th>\n",
                            "      <th>Area Population</th>\n",
                            "      <th>Price</th>\n",
                            "    </tr>\n",
                            "  </thead>\n",
                            "  <tbody>\n",
                            "    <tr>\n",
                            "      <th>count</th>\n",
                            "      <td>5000.000000</td>\n",
                            "      <td>5000.000000</td>\n",
                            "      <td>5000.000000</td>\n",
                            "      <td>5000.000000</td>\n",
                            "      <td>5000.000000</td>\n",
                            "      <td>5.000000e+03</td>\n",
                            "    </tr>\n",
                            "    <tr>\n",
                            "      <th>mean</th>\n",
                            "      <td>68583.108984</td>\n",
                            "      <td>5.977222</td>\n",
                            "      <td>6.987792</td>\n",
                            "      <td>3.981330</td>\n",
                            "      <td>36163.516039</td>\n",
                            "      <td>1.232073e+06</td>\n",
                            "    </tr>\n",
                            "    <tr>\n",
                            "      <th>std</th>\n",
                            "      <td>10657.991214</td>\n",
                            "      <td>0.991456</td>\n",
                            "      <td>1.005833</td>\n",
                            "      <td>1.234137</td>\n",
                            "      <td>9925.650114</td>\n",
                            "      <td>3.531176e+05</td>\n",
                            "    </tr>\n",
                            "    <tr>\n",
                            "      <th>min</th>\n",
                            "      <td>17796.631190</td>\n",
                            "      <td>2.644304</td>\n",
                            "      <td>3.236194</td>\n",
                            "      <td>2.000000</td>\n",
                            "      <td>172.610686</td>\n",
                            "      <td>1.593866e+04</td>\n",
                            "    </tr>\n",
                            "    <tr>\n",
                            "      <th>25%</th>\n",
                            "      <td>61480.562388</td>\n",
                            "      <td>5.322283</td>\n",
                            "      <td>6.299250</td>\n",
                            "      <td>3.140000</td>\n",
                            "      <td>29403.928702</td>\n",
                            "      <td>9.975771e+05</td>\n",
                            "    </tr>\n",
                            "    <tr>\n",
                            "      <th>50%</th>\n",
                            "      <td>68804.286404</td>\n",
                            "      <td>5.970429</td>\n",
                            "      <td>7.002902</td>\n",
                            "      <td>4.050000</td>\n",
                            "      <td>36199.406689</td>\n",
                            "      <td>1.232669e+06</td>\n",
                            "    </tr>\n",
                            "    <tr>\n",
                            "      <th>75%</th>\n",
                            "      <td>75783.338666</td>\n",
                            "      <td>6.650808</td>\n",
                            "      <td>7.665871</td>\n",
                            "      <td>4.490000</td>\n",
                            "      <td>42861.290769</td>\n",
                            "      <td>1.471210e+06</td>\n",
                            "    </tr>\n",
                            "    <tr>\n",
                            "      <th>max</th>\n",
                            "      <td>107701.748378</td>\n",
                            "      <td>9.519088</td>\n",
                            "      <td>10.759588</td>\n",
                            "      <td>6.500000</td>\n",
                            "      <td>69621.713378</td>\n",
                            "      <td>2.469066e+06</td>\n",
                            "    </tr>\n",
                            "  </tbody>\n",
                            "</table>\n",
                            "</div>"
                        ]
                    },
                    "metadata": {},
                    "execution_count": 66
                }
            ],
            "metadata": {}
        },
        {
            "cell_type": "code",
            "execution_count": 67,
            "source": [
                "mu = np.array(df.mean()[:-1])\r\n",
                "print(mu)"
            ],
            "outputs": [
                {
                    "output_type": "stream",
                    "name": "stdout",
                    "text": [
                        "[6.85831090e+04 5.97722204e+00 6.98779185e+00 3.98133000e+00\n",
                        " 3.61635160e+04]\n"
                    ]
                },
                {
                    "output_type": "stream",
                    "name": "stderr",
                    "text": [
                        "C:\\Users\\MRHAI~1\\AppData\\Local\\Temp/ipykernel_5240/3757251929.py:1: FutureWarning: Dropping of nuisance columns in DataFrame reductions (with 'numeric_only=None') is deprecated; in a future version this will raise TypeError.  Select only valid columns before calling the reduction.\n",
                        "  mu = np.array(df.mean()[:-1])\n"
                    ]
                }
            ],
            "metadata": {}
        },
        {
            "cell_type": "code",
            "execution_count": 68,
            "source": [
                "\r\n",
                "\r\n",
                "X = np.array(df.iloc[:, :-2])\r\n",
                "X = (X - mu) / X.shape[0]\r\n",
                "\r\n",
                "X = np.concatenate((np.ones((X.shape[0],1)), X), 1)\r\n",
                "\r\n",
                "y = np.array(df.iloc[:, -2])\r\n",
                "\r\n",
                "# print(X)\r\n",
                "print(y)"
            ],
            "outputs": [
                {
                    "output_type": "stream",
                    "name": "stdout",
                    "text": [
                        "[1059033.55787012 1505890.91484695 1058987.98787608 ... 1030729.58315229\n",
                        " 1198656.87240769 1298950.48026696]\n"
                    ]
                }
            ],
            "metadata": {}
        },
        {
            "cell_type": "code",
            "execution_count": 69,
            "source": [
                "X_train, X_test, y_train, y_test = train_test_split(X, y, test_size=.2)\r\n",
                "\r\n",
                "# print(X_train)\r\n",
                "print(X_train.shape)\r\n",
                "\r\n",
                "y_train = np.array([y_train]).T\r\n",
                "# print(y_train.shape)"
            ],
            "outputs": [
                {
                    "output_type": "stream",
                    "name": "stdout",
                    "text": [
                        "(4000, 6)\n"
                    ]
                }
            ],
            "metadata": {}
        },
        {
            "cell_type": "code",
            "execution_count": 70,
            "source": [
                "# theta\r\n",
                "w = np.zeros((X.shape[1], 1))\r\n",
                "# print(w)\r\n",
                "# print(w.shape)"
            ],
            "outputs": [],
            "metadata": {}
        },
        {
            "cell_type": "code",
            "execution_count": 71,
            "source": [
                "print( ( X_train.dot(w) ) .shape)"
            ],
            "outputs": [
                {
                    "output_type": "stream",
                    "name": "stdout",
                    "text": [
                        "(4000, 1)\n"
                    ]
                }
            ],
            "metadata": {}
        },
        {
            "cell_type": "code",
            "execution_count": 72,
            "source": [
                "# c = np.zeros((X.shape[1], X.shape[1]))\r\n",
                "# c[0][0] = 1\r\n",
                "\r\n",
                "# for i in range(1,X.shape[1]): \r\n",
                "#     c[i][i] = i\r\n",
                "# print(c)"
            ],
            "outputs": [],
            "metadata": {}
        },
        {
            "cell_type": "code",
            "execution_count": 73,
            "source": [
                "iter = 1000\r\n",
                "lr = 0.\r\n",
                "01 #alpha\r\n",
                "res_train = []\r\n",
                "res_test = []\r\n",
                "\r\n",
                "\r\n",
                "for i in range(iter):    \r\n",
                "    # model \r\n",
                "    w = w - lr / X_train.shape[0] * X_train.T.dot(  X_train.dot(w) - y_train  )\r\n",
                "\r\n",
                "    y_pred = X_train.dot(w)\r\n",
                "    # j train result\r\n",
                "    res_train.append( mean_squared_error(y_train, y_pred)/ (2 * X_train.shape[0]) )\r\n",
                "    \r\n",
                "    y_pred = X_test.dot(w)\r\n",
                "\r\n",
                "    res_test.append( mean_squared_error(y_test, y_pred) / (2 * X_test.shape[0]) )"
            ],
            "outputs": [],
            "metadata": {}
        },
        {
            "cell_type": "code",
            "execution_count": 74,
            "source": [
                "# theta matrix\r\n",
                "print(w)"
            ],
            "outputs": [
                {
                    "output_type": "stream",
                    "name": "stdout",
                    "text": [
                        "[[1.23051102e+06]\n",
                        " [1.08118146e+05]\n",
                        " [3.21517079e+02]\n",
                        " [2.42443937e+02]\n",
                        " [1.43782472e+02]\n",
                        " [7.55448433e+04]]\n"
                    ]
                }
            ],
            "metadata": {}
        },
        {
            "cell_type": "code",
            "execution_count": 75,
            "source": [
                "# print(res_train)\r\n",
                "# print(res_test)"
            ],
            "outputs": [],
            "metadata": {}
        },
        {
            "cell_type": "code",
            "execution_count": 76,
            "source": [
                "plt.plot(res_train, 'c')"
            ],
            "outputs": [
                {
                    "output_type": "execute_result",
                    "data": {
                        "text/plain": [
                            "[<matplotlib.lines.Line2D at 0x1958084af10>]"
                        ]
                    },
                    "metadata": {},
                    "execution_count": 76
                },
                {
                    "output_type": "display_data",
                    "data": {
                        "text/plain": [
                            "<Figure size 432x288 with 1 Axes>"
                        ],
                        "image/png": "[encoded data removed]"
                    },
                    "metadata": {
                        "needs_background": "light"
                    }
                }
            ],
            "metadata": {}
        },
        {
            "cell_type": "code",
            "execution_count": 77,
            "source": [
                "print(res_train[-1:])"
            ],
            "outputs": [
                {
                    "output_type": "stream",
                    "name": "stdout",
                    "text": [
                        "[6507141.112979754]\n"
                    ]
                }
            ],
            "metadata": {}
        },
        {
            "cell_type": "code",
            "execution_count": 78,
            "source": [
                "plt.plot(res_test, 'b')"
            ],
            "outputs": [
                {
                    "output_type": "execute_result",
                    "data": {
                        "text/plain": [
                            "[<matplotlib.lines.Line2D at 0x195804f1310>]"
                        ]
                    },
                    "metadata": {},
                    "execution_count": 78
                },
                {
                    "output_type": "display_data",
                    "data": {
                        "text/plain": [
                            "<Figure size 432x288 with 1 Axes>"
                        ],
                        "image/png": "[encoded data removed]"
                    },
                    "metadata": {
                        "needs_background": "light"
                    }
                }
            ],
            "metadata": {}
        },
        {
            "cell_type": "code",
            "execution_count": 79,
            "source": [
                "print(res_test[-1:])"
            ],
            "outputs": [
                {
                    "output_type": "stream",
                    "name": "stdout",
                    "text": [
                        "[25312077.423243873]\n"
                    ]
                }
            ],
            "metadata": {}
        }
    ],
    "metadata": {
        "orig_nbformat": 4,
        "language_info": {
            "name": "python",
            "version": "3.9.1",
            "mimetype": "text/x-python",
            "codemirror_mode": {
                "name": "ipython",
                "version": 3
            },
            "pygments_lexer": "ipython3",
            "nbconvert_exporter": "python",
            "file_extension": ".py"
        },
        "kernelspec": {
            "name": "python3",
            "display_name": "Python 3.9.1 64-bit"
        },
        "interpreter": {
            "hash": "90bf0ec40c7ec4c2b0ea387a416fb17af957fde752c4cfd10a947730a75cc172"
        }
    },
    "nbformat": 4,
    "nbformat_minor": 2
}